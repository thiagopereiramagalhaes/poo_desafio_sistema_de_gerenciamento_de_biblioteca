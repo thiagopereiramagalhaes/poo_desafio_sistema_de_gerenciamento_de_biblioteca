{
  "nbformat": 4,
  "nbformat_minor": 0,
  "metadata": {
    "colab": {
      "provenance": []
    },
    "kernelspec": {
      "name": "python3",
      "display_name": "Python 3"
    },
    "language_info": {
      "name": "python"
    }
  },
  "cells": [
    {
      "cell_type": "markdown",
      "source": [
        "# Desafio POO: Sistema de Gerenciamento de Biblioteca\n",
        "Imagine que você está criando um sistema de gerenciamento de biblioteca em Python. **Seu objetivo é criar três classes**: *`Livro`*, *`Cliente`* e *`Biblioteca`*, **negrito** **cada uma com métodos apropriados**. Aqui está a descrição de cada classe:\n",
        "\n",
        "1. **Livro:**\n",
        "* [X] A classe Livro deve ter os seguintes atributos: título, autor, ano de publicação e número de cópias disponíveis.\n",
        "* [X] Deve ter um método chamado emprestar() que reduz o número de cópias disponíveis em 1 sempre que um livro é emprestado.\n",
        "* [X] Deve ter um método chamado devolver() que aumenta o número de cópias disponíveis em 1 sempre que um livro é devolvido.\n",
        "* [X] Deve ter um método disponivel() que retorna True se houver pelo menos uma cópia disponível, e False caso contrário.\n",
        "\n",
        "2. **Cliente:**\n",
        "\n",
        "* [X] A classe Cliente deve ter os seguintes atributos: nome, número de identificação do cliente e lista de livros atualmente em posse do cliente.\n",
        "* [X] Deve ter um método pegar_livro(livro) que permite que o cliente pegue emprestado um livro, desde que o livro esteja disponível na biblioteca.\n",
        "* [X] Deve ter um método devolver_livro(livro) que permite que o cliente devolva um livro.\n",
        "* [X] Deve ter um método livros_em_posse() que retorna a lista de livros atualmente em posse do cliente.\n",
        "\n",
        "3. **Biblioteca:**\n",
        "\n",
        "* [X] A classe Biblioteca deve ter uma lista de livros disponíveis e uma lista de clientes registrados.\n",
        "* [X] Deve ter um método adicionar_livro(livro) que permite adicionar um livro à biblioteca.\n",
        "* [X] Deve ter um método adicionar_cliente(cliente) que permite registrar um cliente na biblioteca.\n",
        "* [X] Deve ter um método emprestar_livro(cliente, livro) que permite a um cliente emprestar um livro da biblioteca.\n",
        "* [X] Deve ter um método listar_livros_disponiveis() que retorna a lista de livros disponíveis na biblioteca.\n",
        "* [X] Deve ter um método listar_clientes() que retorna a lista de clientes registrados na biblioteca.\n",
        "\n",
        "**Seu desafio é implementar essas três classes e os métodos descritos acima, garantindo que eles funcionem corretamente.** Você também pode adicionar métodos adicionais ou funcionalidades se desejar. Boa sorte!\n",
        "\n",
        "***Fonte***: https://chat.openai.com/"
      ],
      "metadata": {
        "id": "JZE3SOnbD4VZ"
      }
    },
    {
      "cell_type": "code",
      "source": [
        "class Livro:\n",
        "  def __init__(self, titulo, autor, ano, copias_disponiveis):\n",
        "    self.titulo = titulo\n",
        "    self.autor = autor\n",
        "    self.ano = ano\n",
        "    self.copias_disponiveis = copias_disponiveis\n",
        "\n",
        "  def emprestar(self):\n",
        "    if self.copias_disponiveis > 0:\n",
        "      self.copias_disponiveis -= 1\n",
        "      return True\n",
        "    else:\n",
        "      return False\n",
        "\n",
        "  def devolver(self):\n",
        "    self.copias_disponiveis += 1\n",
        "\n",
        "  def disponivel(self):\n",
        "    return self.copias_disponiveis > 0\n"
      ],
      "metadata": {
        "id": "K_1SOAcCGVQk"
      },
      "execution_count": 43,
      "outputs": []
    },
    {
      "cell_type": "code",
      "execution_count": 44,
      "metadata": {
        "id": "ZoMgX-leDiYi"
      },
      "outputs": [],
      "source": [
        "class Cliente:\n",
        "  def __init__(self, nome, identificacao):\n",
        "    self.nome = nome\n",
        "    self.id_cliente = identificacao\n",
        "    self._livros_em_posse = []\n",
        "\n",
        "  def pegar_livro(self, livro):\n",
        "    self._livros_em_posse.append(livro)\n",
        "\n",
        "  def devolver_livro(self, livro):\n",
        "    if livro in self._livros_em_posse:\n",
        "      self._livros_em_posse.remove(livro)\n",
        "      return True\n",
        "    else:\n",
        "      return False\n",
        "\n",
        "  def livros_em_posse(self):\n",
        "    return [livro.titulo for livro in self._livros_em_posse]"
      ]
    },
    {
      "cell_type": "code",
      "source": [
        "class Biblioteca:\n",
        "  def __init__(self):\n",
        "    self.livros_disponiveis = []\n",
        "    self.clientes_registrados = []\n",
        "\n",
        "  def adicionar_livro(self, livro):\n",
        "    self.livros_disponiveis.append(livro)\n",
        "\n",
        "  def adicionar_cliente(self, cliente):\n",
        "    self.clientes_registrados.append(cliente)\n",
        "\n",
        "  def emprestar_livro(self, cliente, livro):\n",
        "    if cliente in self.clientes_registrados and livro in self.livros_disponiveis:\n",
        "      if livro.emprestar():\n",
        "        cliente.pegar_livro(livro)\n",
        "        self.livros_disponiveis.remove(livro)\n",
        "        return True\n",
        "      else:\n",
        "        return False\n",
        "    else:\n",
        "      return False\n",
        "\n",
        "  def listar_livros_disponiveis(self):\n",
        "    return [livro.titulo for livro in self.livros_disponiveis]\n",
        "\n",
        "  def listar_clientes(self):\n",
        "    return [cliente.nome for cliente in self.clientes_registrados]"
      ],
      "metadata": {
        "id": "e9ZoG1L-GRYJ"
      },
      "execution_count": 45,
      "outputs": []
    },
    {
      "cell_type": "code",
      "source": [
        "livros= [\n",
        "    {\"titulo\": \"A Guerra dos Tronos\", \"autor\": \"George R.R. Martin\", \"ano\": 1996, \"copias\": 3},\n",
        "    {\"titulo\": \"1984\", \"autor\": \"George Orwell\", \"ano\": 1949, \"copias\": 5},\n",
        "    {\"titulo\": \"O Senhor dos Anéis\", \"autor\": \"J.R.R. Tolkien\", \"ano\": 1954, \"copias\": 2},\n",
        "    {\"titulo\": \"O Pequeno Príncipe\", \"autor\": \"Antoine de Saint-Exupéry\", \"ano\": 1943, \"copias\": 4},\n",
        "    {\"titulo\": \"Harry Potter e a Pedra Filosofal\", \"autor\": \"J.K. Rowling\", \"ano\": 1997, \"copias\": 6},\n",
        "]\n",
        "clientes = [\n",
        "    {\"nome\": \"Alice\", \"identificacao\": 123},\n",
        "    {\"nome\": \"Bob\", \"identificacao\": 456},\n",
        "    {\"nome\": \"Carol\", \"identificacao\": 789},\n",
        "    {\"nome\": \"David\", \"identificacao\": 101},\n",
        "    {\"nome\": \"Eve\", \"identificacao\": 202},\n",
        "]"
      ],
      "metadata": {
        "id": "5swr1n9hiXul"
      },
      "execution_count": 46,
      "outputs": []
    },
    {
      "cell_type": "code",
      "source": [
        "biblioteca = Biblioteca()"
      ],
      "metadata": {
        "id": "1QdboSvtx4M5"
      },
      "execution_count": 56,
      "outputs": []
    },
    {
      "cell_type": "code",
      "source": [
        "for livro in livros:\n",
        "  biblioteca.adicionar_livro(Livro(livro['titulo'], livro['autor'], livro['ano'], livro['copias']))\n",
        "\n",
        "print(biblioteca.listar_livros_disponiveis())"
      ],
      "metadata": {
        "colab": {
          "base_uri": "https://localhost:8080/"
        },
        "id": "ASgBX1cX0ytm",
        "outputId": "cef5e3f5-3246-4279-f027-a247987fa0db"
      },
      "execution_count": 53,
      "outputs": [
        {
          "output_type": "stream",
          "name": "stdout",
          "text": [
            "['A Guerra dos Tronos', '1984', 'O Senhor dos Anéis', 'O Pequeno Príncipe', 'Harry Potter e a Pedra Filosofal']\n"
          ]
        }
      ]
    },
    {
      "cell_type": "code",
      "source": [
        "for cliente in clientes:\n",
        "  biblioteca.adicionar_cliente(Cliente(cliente['nome'], cliente['identificacao']))\n",
        "\n",
        "print(biblioteca.listar_clientes())"
      ],
      "metadata": {
        "colab": {
          "base_uri": "https://localhost:8080/"
        },
        "id": "SswTXSZP1qID",
        "outputId": "a7c65ffb-75e1-4558-9b02-ab83a056183e"
      },
      "execution_count": 57,
      "outputs": [
        {
          "output_type": "stream",
          "name": "stdout",
          "text": [
            "['Alice', 'Bob', 'Carol', 'David', 'Eve']\n"
          ]
        }
      ]
    }
  ]
}